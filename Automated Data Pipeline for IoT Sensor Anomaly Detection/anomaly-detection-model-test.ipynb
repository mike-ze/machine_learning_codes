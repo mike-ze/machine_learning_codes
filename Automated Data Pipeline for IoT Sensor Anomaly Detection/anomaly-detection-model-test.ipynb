{
 "cells": [
  {
   "cell_type": "code",
   "execution_count": 18,
   "metadata": {},
   "outputs": [],
   "source": [
    "import pandas as pd\n",
    "import numpy as np\n",
    "import matplotlib.pyplot as plt\n",
    "import seaborn as sns\n",
    "import sklearn\n",
    "from tensorflow import keras\n",
    "from sklearn.svm import SVC,SVR\n",
    "from sklearn.ensemble import RandomForestClassifier\n",
    "import xgboost as xgb\n",
    "from sklearn.model_selection import train_test_split, GridSearchCV, cross_val_score, StratifiedKFold\n",
    "from imblearn.over_sampling import SMOTE\n",
    "from sklearn.metrics import accuracy_score, f1_score, confusion_matrix, precision_recall_fscore_support\n",
    "from hyperopt import hp, fmin, tpe, STATUS_OK, Trials"
   ]
  },
  {
   "cell_type": "code",
   "execution_count": 2,
   "metadata": {},
   "outputs": [],
   "source": [
    "data =  pd.read_csv(\"mainSimulationAccessTraces.csv\")"
   ]
  },
  {
   "cell_type": "code",
   "execution_count": 3,
   "metadata": {},
   "outputs": [
    {
     "data": {
      "text/html": [
       "<div>\n",
       "<style scoped>\n",
       "    .dataframe tbody tr th:only-of-type {\n",
       "        vertical-align: middle;\n",
       "    }\n",
       "\n",
       "    .dataframe tbody tr th {\n",
       "        vertical-align: top;\n",
       "    }\n",
       "\n",
       "    .dataframe thead th {\n",
       "        text-align: right;\n",
       "    }\n",
       "</style>\n",
       "<table border=\"1\" class=\"dataframe\">\n",
       "  <thead>\n",
       "    <tr style=\"text-align: right;\">\n",
       "      <th></th>\n",
       "      <th>sourceID</th>\n",
       "      <th>sourceAddress</th>\n",
       "      <th>sourceType</th>\n",
       "      <th>sourceLocation</th>\n",
       "      <th>destinationServiceAddress</th>\n",
       "      <th>destinationServiceType</th>\n",
       "      <th>destinationLocation</th>\n",
       "      <th>accessedNodeAddress</th>\n",
       "      <th>accessedNodeType</th>\n",
       "      <th>operation</th>\n",
       "      <th>value</th>\n",
       "      <th>timestamp</th>\n",
       "      <th>normality</th>\n",
       "    </tr>\n",
       "  </thead>\n",
       "  <tbody>\n",
       "    <tr>\n",
       "      <th>0</th>\n",
       "      <td>lightcontrol2</td>\n",
       "      <td>/agent2/lightcontrol2</td>\n",
       "      <td>/lightControler</td>\n",
       "      <td>BedroomParents</td>\n",
       "      <td>/agent2/lightcontrol2</td>\n",
       "      <td>/lightControler</td>\n",
       "      <td>BedroomParents</td>\n",
       "      <td>/agent2/lightcontrol2</td>\n",
       "      <td>/lightControler</td>\n",
       "      <td>registerService</td>\n",
       "      <td>none</td>\n",
       "      <td>1520031600000</td>\n",
       "      <td>normal</td>\n",
       "    </tr>\n",
       "    <tr>\n",
       "      <th>1</th>\n",
       "      <td>lightcontrol3</td>\n",
       "      <td>/agent3/lightcontrol3</td>\n",
       "      <td>/lightControler</td>\n",
       "      <td>Dinningroom</td>\n",
       "      <td>/agent3/lightcontrol3</td>\n",
       "      <td>/lightControler</td>\n",
       "      <td>Dinningroom</td>\n",
       "      <td>/agent3/lightcontrol3</td>\n",
       "      <td>/lightControler</td>\n",
       "      <td>registerService</td>\n",
       "      <td>none</td>\n",
       "      <td>1520031603269</td>\n",
       "      <td>normal</td>\n",
       "    </tr>\n",
       "    <tr>\n",
       "      <th>2</th>\n",
       "      <td>lightcontrol1</td>\n",
       "      <td>/agent1/lightcontrol1</td>\n",
       "      <td>/lightControler</td>\n",
       "      <td>BedroomChildren</td>\n",
       "      <td>/agent1/lightcontrol1</td>\n",
       "      <td>/lightControler</td>\n",
       "      <td>BedroomChildren</td>\n",
       "      <td>/agent1/lightcontrol1</td>\n",
       "      <td>/lightControler</td>\n",
       "      <td>registerService</td>\n",
       "      <td>none</td>\n",
       "      <td>1520031603279</td>\n",
       "      <td>normal</td>\n",
       "    </tr>\n",
       "    <tr>\n",
       "      <th>3</th>\n",
       "      <td>lightcontrol4</td>\n",
       "      <td>/agent4/lightcontrol4</td>\n",
       "      <td>/lightControler</td>\n",
       "      <td>Kitchen</td>\n",
       "      <td>/agent4/lightcontrol4</td>\n",
       "      <td>/lightControler</td>\n",
       "      <td>Kitchen</td>\n",
       "      <td>/agent4/lightcontrol4</td>\n",
       "      <td>/lightControler</td>\n",
       "      <td>registerService</td>\n",
       "      <td>none</td>\n",
       "      <td>1520031603290</td>\n",
       "      <td>normal</td>\n",
       "    </tr>\n",
       "    <tr>\n",
       "      <th>4</th>\n",
       "      <td>movement4</td>\n",
       "      <td>/agent4/movement4</td>\n",
       "      <td>/movementSensor</td>\n",
       "      <td>Kitchen</td>\n",
       "      <td>/agent4/movement4</td>\n",
       "      <td>/movementSensor</td>\n",
       "      <td>Kitchen</td>\n",
       "      <td>/agent4/movement4</td>\n",
       "      <td>/movementSensor</td>\n",
       "      <td>registerService</td>\n",
       "      <td>none</td>\n",
       "      <td>1520031603464</td>\n",
       "      <td>normal</td>\n",
       "    </tr>\n",
       "  </tbody>\n",
       "</table>\n",
       "</div>"
      ],
      "text/plain": [
       "        sourceID          sourceAddress       sourceType   sourceLocation  \\\n",
       "0  lightcontrol2  /agent2/lightcontrol2  /lightControler   BedroomParents   \n",
       "1  lightcontrol3  /agent3/lightcontrol3  /lightControler      Dinningroom   \n",
       "2  lightcontrol1  /agent1/lightcontrol1  /lightControler  BedroomChildren   \n",
       "3  lightcontrol4  /agent4/lightcontrol4  /lightControler          Kitchen   \n",
       "4      movement4      /agent4/movement4  /movementSensor          Kitchen   \n",
       "\n",
       "  destinationServiceAddress destinationServiceType destinationLocation  \\\n",
       "0     /agent2/lightcontrol2        /lightControler      BedroomParents   \n",
       "1     /agent3/lightcontrol3        /lightControler         Dinningroom   \n",
       "2     /agent1/lightcontrol1        /lightControler     BedroomChildren   \n",
       "3     /agent4/lightcontrol4        /lightControler             Kitchen   \n",
       "4         /agent4/movement4        /movementSensor             Kitchen   \n",
       "\n",
       "     accessedNodeAddress accessedNodeType        operation value  \\\n",
       "0  /agent2/lightcontrol2  /lightControler  registerService  none   \n",
       "1  /agent3/lightcontrol3  /lightControler  registerService  none   \n",
       "2  /agent1/lightcontrol1  /lightControler  registerService  none   \n",
       "3  /agent4/lightcontrol4  /lightControler  registerService  none   \n",
       "4      /agent4/movement4  /movementSensor  registerService  none   \n",
       "\n",
       "       timestamp normality  \n",
       "0  1520031600000    normal  \n",
       "1  1520031603269    normal  \n",
       "2  1520031603279    normal  \n",
       "3  1520031603290    normal  \n",
       "4  1520031603464    normal  "
      ]
     },
     "metadata": {},
     "output_type": "display_data"
    },
    {
     "name": "stdout",
     "output_type": "stream",
     "text": [
      "<class 'pandas.core.frame.DataFrame'>\n",
      "RangeIndex: 357952 entries, 0 to 357951\n",
      "Data columns (total 13 columns):\n",
      " #   Column                     Non-Null Count   Dtype \n",
      "---  ------                     --------------   ----- \n",
      " 0   sourceID                   357952 non-null  object\n",
      " 1   sourceAddress              357952 non-null  object\n",
      " 2   sourceType                 357952 non-null  object\n",
      " 3   sourceLocation             357952 non-null  object\n",
      " 4   destinationServiceAddress  357952 non-null  object\n",
      " 5   destinationServiceType     357952 non-null  object\n",
      " 6   destinationLocation        357952 non-null  object\n",
      " 7   accessedNodeAddress        357952 non-null  object\n",
      " 8   accessedNodeType           357804 non-null  object\n",
      " 9   operation                  357952 non-null  object\n",
      " 10  value                      355902 non-null  object\n",
      " 11  timestamp                  357952 non-null  int64 \n",
      " 12  normality                  357952 non-null  object\n",
      "dtypes: int64(1), object(12)\n",
      "memory usage: 35.5+ MB\n"
     ]
    }
   ],
   "source": [
    "display(data.head())\n",
    "data.info()"
   ]
  },
  {
   "cell_type": "code",
   "execution_count": 4,
   "metadata": {},
   "outputs": [
    {
     "name": "stdout",
     "output_type": "stream",
     "text": [
      "/sensorService      130155\n",
      "/derived/boolean     94725\n",
      "/basic/number        90016\n",
      "/basic/text          42433\n",
      "/thermostat            313\n",
      "/basic/composed        100\n",
      "/lightControler         23\n",
      "/movementSensor         22\n",
      "/batteryService          6\n",
      "/doorLockService         5\n",
      "/washingService          3\n",
      "/smartPhone              3\n",
      "Name: accessedNodeType, dtype: int64\n"
     ]
    }
   ],
   "source": [
    "# 1. Feature Engineering\n",
    "# fillna and label encoding 'accessedNodeType' column\n",
    "print(data['accessedNodeType'].value_counts())\n",
    "data[\"accessedNodeType\"] = data[\"accessedNodeType\"].astype('category')\n",
    "data[\"accessedNodeType_cat\"] = data[\"accessedNodeType\"].cat.codes"
   ]
  },
  {
   "cell_type": "code",
   "execution_count": 5,
   "metadata": {},
   "outputs": [
    {
     "data": {
      "text/html": [
       "<div>\n",
       "<style scoped>\n",
       "    .dataframe tbody tr th:only-of-type {\n",
       "        vertical-align: middle;\n",
       "    }\n",
       "\n",
       "    .dataframe tbody tr th {\n",
       "        vertical-align: top;\n",
       "    }\n",
       "\n",
       "    .dataframe thead th {\n",
       "        text-align: right;\n",
       "    }\n",
       "</style>\n",
       "<table border=\"1\" class=\"dataframe\">\n",
       "  <thead>\n",
       "    <tr style=\"text-align: right;\">\n",
       "      <th></th>\n",
       "      <th>sourceType</th>\n",
       "      <th>destinationServiceType</th>\n",
       "      <th>accessedNodeAddress</th>\n",
       "      <th>accessedNodeType</th>\n",
       "      <th>accessedNodeType_cat</th>\n",
       "      <th>normality</th>\n",
       "    </tr>\n",
       "  </thead>\n",
       "  <tbody>\n",
       "    <tr>\n",
       "      <th>136771</th>\n",
       "      <td>/washingService</td>\n",
       "      <td>/batteryService</td>\n",
       "      <td>/agent5/battery2/charging</td>\n",
       "      <td>NaN</td>\n",
       "      <td>-1</td>\n",
       "      <td>anomalous(malitiousOperation)</td>\n",
       "    </tr>\n",
       "    <tr>\n",
       "      <th>136775</th>\n",
       "      <td>/washingService</td>\n",
       "      <td>/batteryService</td>\n",
       "      <td>/agent4/battery3/charging</td>\n",
       "      <td>NaN</td>\n",
       "      <td>-1</td>\n",
       "      <td>anomalous(malitiousOperation)</td>\n",
       "    </tr>\n",
       "    <tr>\n",
       "      <th>136776</th>\n",
       "      <td>/washingService</td>\n",
       "      <td>/batteryService</td>\n",
       "      <td>/agent4/battery3/charging</td>\n",
       "      <td>NaN</td>\n",
       "      <td>-1</td>\n",
       "      <td>anomalous(malitiousOperation)</td>\n",
       "    </tr>\n",
       "    <tr>\n",
       "      <th>136779</th>\n",
       "      <td>/washingService</td>\n",
       "      <td>/batteryService</td>\n",
       "      <td>/agent5/battery2/charging</td>\n",
       "      <td>NaN</td>\n",
       "      <td>-1</td>\n",
       "      <td>anomalous(malitiousOperation)</td>\n",
       "    </tr>\n",
       "    <tr>\n",
       "      <th>136780</th>\n",
       "      <td>/washingService</td>\n",
       "      <td>/batteryService</td>\n",
       "      <td>/agent5/battery2/charging</td>\n",
       "      <td>NaN</td>\n",
       "      <td>-1</td>\n",
       "      <td>anomalous(malitiousOperation)</td>\n",
       "    </tr>\n",
       "    <tr>\n",
       "      <th>...</th>\n",
       "      <td>...</td>\n",
       "      <td>...</td>\n",
       "      <td>...</td>\n",
       "      <td>...</td>\n",
       "      <td>...</td>\n",
       "      <td>...</td>\n",
       "    </tr>\n",
       "    <tr>\n",
       "      <th>137087</th>\n",
       "      <td>/washingService</td>\n",
       "      <td>/batteryService</td>\n",
       "      <td>/agent5/battery2/charging</td>\n",
       "      <td>NaN</td>\n",
       "      <td>-1</td>\n",
       "      <td>anomalous(malitiousOperation)</td>\n",
       "    </tr>\n",
       "    <tr>\n",
       "      <th>137090</th>\n",
       "      <td>/washingService</td>\n",
       "      <td>/batteryService</td>\n",
       "      <td>/agent4/battery3/charging</td>\n",
       "      <td>NaN</td>\n",
       "      <td>-1</td>\n",
       "      <td>anomalous(malitiousOperation)</td>\n",
       "    </tr>\n",
       "    <tr>\n",
       "      <th>137092</th>\n",
       "      <td>/washingService</td>\n",
       "      <td>/batteryService</td>\n",
       "      <td>/agent4/battery3/charging</td>\n",
       "      <td>NaN</td>\n",
       "      <td>-1</td>\n",
       "      <td>anomalous(malitiousOperation)</td>\n",
       "    </tr>\n",
       "    <tr>\n",
       "      <th>137097</th>\n",
       "      <td>/washingService</td>\n",
       "      <td>/batteryService</td>\n",
       "      <td>/agent4/battery3/charging</td>\n",
       "      <td>NaN</td>\n",
       "      <td>-1</td>\n",
       "      <td>anomalous(malitiousOperation)</td>\n",
       "    </tr>\n",
       "    <tr>\n",
       "      <th>137099</th>\n",
       "      <td>/washingService</td>\n",
       "      <td>/batteryService</td>\n",
       "      <td>/agent5/battery2/charging</td>\n",
       "      <td>NaN</td>\n",
       "      <td>-1</td>\n",
       "      <td>anomalous(malitiousOperation)</td>\n",
       "    </tr>\n",
       "  </tbody>\n",
       "</table>\n",
       "<p>148 rows × 6 columns</p>\n",
       "</div>"
      ],
      "text/plain": [
       "             sourceType destinationServiceType        accessedNodeAddress  \\\n",
       "136771  /washingService        /batteryService  /agent5/battery2/charging   \n",
       "136775  /washingService        /batteryService  /agent4/battery3/charging   \n",
       "136776  /washingService        /batteryService  /agent4/battery3/charging   \n",
       "136779  /washingService        /batteryService  /agent5/battery2/charging   \n",
       "136780  /washingService        /batteryService  /agent5/battery2/charging   \n",
       "...                 ...                    ...                        ...   \n",
       "137087  /washingService        /batteryService  /agent5/battery2/charging   \n",
       "137090  /washingService        /batteryService  /agent4/battery3/charging   \n",
       "137092  /washingService        /batteryService  /agent4/battery3/charging   \n",
       "137097  /washingService        /batteryService  /agent4/battery3/charging   \n",
       "137099  /washingService        /batteryService  /agent5/battery2/charging   \n",
       "\n",
       "       accessedNodeType  accessedNodeType_cat                      normality  \n",
       "136771              NaN                    -1  anomalous(malitiousOperation)  \n",
       "136775              NaN                    -1  anomalous(malitiousOperation)  \n",
       "136776              NaN                    -1  anomalous(malitiousOperation)  \n",
       "136779              NaN                    -1  anomalous(malitiousOperation)  \n",
       "136780              NaN                    -1  anomalous(malitiousOperation)  \n",
       "...                 ...                   ...                            ...  \n",
       "137087              NaN                    -1  anomalous(malitiousOperation)  \n",
       "137090              NaN                    -1  anomalous(malitiousOperation)  \n",
       "137092              NaN                    -1  anomalous(malitiousOperation)  \n",
       "137097              NaN                    -1  anomalous(malitiousOperation)  \n",
       "137099              NaN                    -1  anomalous(malitiousOperation)  \n",
       "\n",
       "[148 rows x 6 columns]"
      ]
     },
     "metadata": {},
     "output_type": "display_data"
    },
    {
     "name": "stdout",
     "output_type": "stream",
     "text": [
      " 8     130155\n",
      " 4      94725\n",
      " 1      90016\n",
      " 2      42433\n",
      " 10       313\n",
      "-1        148\n",
      " 0        100\n",
      " 6         23\n",
      " 7         22\n",
      " 3          6\n",
      " 5          5\n",
      " 9          3\n",
      " 11         3\n",
      "Name: accessedNodeType_cat, dtype: int64\n"
     ]
    }
   ],
   "source": [
    "display(data[data['accessedNodeType_cat'] == -1][['sourceType', 'destinationServiceType', 'accessedNodeAddress','accessedNodeType', 'accessedNodeType_cat', 'normality']])\n",
    "print(data['accessedNodeType_cat'].value_counts())"
   ]
  },
  {
   "cell_type": "code",
   "execution_count": 6,
   "metadata": {},
   "outputs": [
    {
     "name": "stdout",
     "output_type": "stream",
     "text": [
      "8     130155\n",
      "4      94725\n",
      "1      90016\n",
      "2      42433\n",
      "10       313\n",
      "3        154\n",
      "0        100\n",
      "6         23\n",
      "7         22\n",
      "5          5\n",
      "9          3\n",
      "11         3\n",
      "Name: accessedNodeType_cat, dtype: int64\n"
     ]
    }
   ],
   "source": [
    "data = data.fillna({'accessedNodeType': '/batteryService'})\n",
    "data[\"accessedNodeType\"] = data[\"accessedNodeType\"].astype('category')\n",
    "data[\"accessedNodeType_cat\"] = data[\"accessedNodeType\"].cat.codes\n",
    "print(data['accessedNodeType_cat'].value_counts())"
   ]
  },
  {
   "cell_type": "code",
   "execution_count": 7,
   "metadata": {},
   "outputs": [
    {
     "data": {
      "text/html": [
       "<div>\n",
       "<style scoped>\n",
       "    .dataframe tbody tr th:only-of-type {\n",
       "        vertical-align: middle;\n",
       "    }\n",
       "\n",
       "    .dataframe tbody tr th {\n",
       "        vertical-align: top;\n",
       "    }\n",
       "\n",
       "    .dataframe thead th {\n",
       "        text-align: right;\n",
       "    }\n",
       "</style>\n",
       "<table border=\"1\" class=\"dataframe\">\n",
       "  <thead>\n",
       "    <tr style=\"text-align: right;\">\n",
       "      <th></th>\n",
       "      <th>sourceID</th>\n",
       "      <th>sourceAddress</th>\n",
       "      <th>sourceType</th>\n",
       "      <th>sourceLocation</th>\n",
       "      <th>destinationServiceAddress</th>\n",
       "      <th>destinationServiceType</th>\n",
       "      <th>destinationLocation</th>\n",
       "      <th>accessedNodeAddress</th>\n",
       "      <th>accessedNodeType</th>\n",
       "      <th>operation</th>\n",
       "      <th>value</th>\n",
       "      <th>timestamp</th>\n",
       "      <th>normality</th>\n",
       "      <th>accessedNodeType_cat</th>\n",
       "      <th>value_cat</th>\n",
       "    </tr>\n",
       "  </thead>\n",
       "  <tbody>\n",
       "    <tr>\n",
       "      <th>0</th>\n",
       "      <td>lightcontrol2</td>\n",
       "      <td>/agent2/lightcontrol2</td>\n",
       "      <td>/lightControler</td>\n",
       "      <td>BedroomParents</td>\n",
       "      <td>/agent2/lightcontrol2</td>\n",
       "      <td>/lightControler</td>\n",
       "      <td>BedroomParents</td>\n",
       "      <td>/agent2/lightcontrol2</td>\n",
       "      <td>/lightControler</td>\n",
       "      <td>registerService</td>\n",
       "      <td>none</td>\n",
       "      <td>1520031600000</td>\n",
       "      <td>normal</td>\n",
       "      <td>6</td>\n",
       "      <td>10609</td>\n",
       "    </tr>\n",
       "    <tr>\n",
       "      <th>1</th>\n",
       "      <td>lightcontrol3</td>\n",
       "      <td>/agent3/lightcontrol3</td>\n",
       "      <td>/lightControler</td>\n",
       "      <td>Dinningroom</td>\n",
       "      <td>/agent3/lightcontrol3</td>\n",
       "      <td>/lightControler</td>\n",
       "      <td>Dinningroom</td>\n",
       "      <td>/agent3/lightcontrol3</td>\n",
       "      <td>/lightControler</td>\n",
       "      <td>registerService</td>\n",
       "      <td>none</td>\n",
       "      <td>1520031603269</td>\n",
       "      <td>normal</td>\n",
       "      <td>6</td>\n",
       "      <td>10609</td>\n",
       "    </tr>\n",
       "    <tr>\n",
       "      <th>2</th>\n",
       "      <td>lightcontrol1</td>\n",
       "      <td>/agent1/lightcontrol1</td>\n",
       "      <td>/lightControler</td>\n",
       "      <td>BedroomChildren</td>\n",
       "      <td>/agent1/lightcontrol1</td>\n",
       "      <td>/lightControler</td>\n",
       "      <td>BedroomChildren</td>\n",
       "      <td>/agent1/lightcontrol1</td>\n",
       "      <td>/lightControler</td>\n",
       "      <td>registerService</td>\n",
       "      <td>none</td>\n",
       "      <td>1520031603279</td>\n",
       "      <td>normal</td>\n",
       "      <td>6</td>\n",
       "      <td>10609</td>\n",
       "    </tr>\n",
       "    <tr>\n",
       "      <th>3</th>\n",
       "      <td>lightcontrol4</td>\n",
       "      <td>/agent4/lightcontrol4</td>\n",
       "      <td>/lightControler</td>\n",
       "      <td>Kitchen</td>\n",
       "      <td>/agent4/lightcontrol4</td>\n",
       "      <td>/lightControler</td>\n",
       "      <td>Kitchen</td>\n",
       "      <td>/agent4/lightcontrol4</td>\n",
       "      <td>/lightControler</td>\n",
       "      <td>registerService</td>\n",
       "      <td>none</td>\n",
       "      <td>1520031603290</td>\n",
       "      <td>normal</td>\n",
       "      <td>6</td>\n",
       "      <td>10609</td>\n",
       "    </tr>\n",
       "    <tr>\n",
       "      <th>4</th>\n",
       "      <td>movement4</td>\n",
       "      <td>/agent4/movement4</td>\n",
       "      <td>/movementSensor</td>\n",
       "      <td>Kitchen</td>\n",
       "      <td>/agent4/movement4</td>\n",
       "      <td>/movementSensor</td>\n",
       "      <td>Kitchen</td>\n",
       "      <td>/agent4/movement4</td>\n",
       "      <td>/movementSensor</td>\n",
       "      <td>registerService</td>\n",
       "      <td>none</td>\n",
       "      <td>1520031603464</td>\n",
       "      <td>normal</td>\n",
       "      <td>7</td>\n",
       "      <td>10609</td>\n",
       "    </tr>\n",
       "  </tbody>\n",
       "</table>\n",
       "</div>"
      ],
      "text/plain": [
       "        sourceID          sourceAddress       sourceType   sourceLocation  \\\n",
       "0  lightcontrol2  /agent2/lightcontrol2  /lightControler   BedroomParents   \n",
       "1  lightcontrol3  /agent3/lightcontrol3  /lightControler      Dinningroom   \n",
       "2  lightcontrol1  /agent1/lightcontrol1  /lightControler  BedroomChildren   \n",
       "3  lightcontrol4  /agent4/lightcontrol4  /lightControler          Kitchen   \n",
       "4      movement4      /agent4/movement4  /movementSensor          Kitchen   \n",
       "\n",
       "  destinationServiceAddress destinationServiceType destinationLocation  \\\n",
       "0     /agent2/lightcontrol2        /lightControler      BedroomParents   \n",
       "1     /agent3/lightcontrol3        /lightControler         Dinningroom   \n",
       "2     /agent1/lightcontrol1        /lightControler     BedroomChildren   \n",
       "3     /agent4/lightcontrol4        /lightControler             Kitchen   \n",
       "4         /agent4/movement4        /movementSensor             Kitchen   \n",
       "\n",
       "     accessedNodeAddress accessedNodeType        operation value  \\\n",
       "0  /agent2/lightcontrol2  /lightControler  registerService  none   \n",
       "1  /agent3/lightcontrol3  /lightControler  registerService  none   \n",
       "2  /agent1/lightcontrol1  /lightControler  registerService  none   \n",
       "3  /agent4/lightcontrol4  /lightControler  registerService  none   \n",
       "4      /agent4/movement4  /movementSensor  registerService  none   \n",
       "\n",
       "       timestamp normality  accessedNodeType_cat  value_cat  \n",
       "0  1520031600000    normal                     6      10609  \n",
       "1  1520031603269    normal                     6      10609  \n",
       "2  1520031603279    normal                     6      10609  \n",
       "3  1520031603290    normal                     6      10609  \n",
       "4  1520031603464    normal                     7      10609  "
      ]
     },
     "execution_count": 7,
     "metadata": {},
     "output_type": "execute_result"
    }
   ],
   "source": [
    "# fillna with 0 and label encoding 'value' column\n",
    "data[\"value\"] = data[\"value\"].astype('category')\n",
    "data[\"value_cat\"] = data[\"value\"].cat.codes\n",
    "data.head()"
   ]
  },
  {
   "cell_type": "code",
   "execution_count": 8,
   "metadata": {},
   "outputs": [
    {
     "data": {
      "text/html": [
       "<div>\n",
       "<style scoped>\n",
       "    .dataframe tbody tr th:only-of-type {\n",
       "        vertical-align: middle;\n",
       "    }\n",
       "\n",
       "    .dataframe tbody tr th {\n",
       "        vertical-align: top;\n",
       "    }\n",
       "\n",
       "    .dataframe thead th {\n",
       "        text-align: right;\n",
       "    }\n",
       "</style>\n",
       "<table border=\"1\" class=\"dataframe\">\n",
       "  <thead>\n",
       "    <tr style=\"text-align: right;\">\n",
       "      <th></th>\n",
       "      <th>sourceType</th>\n",
       "      <th>destinationServiceType</th>\n",
       "      <th>accessedNodeType</th>\n",
       "      <th>value</th>\n",
       "      <th>value_cat</th>\n",
       "      <th>normality</th>\n",
       "    </tr>\n",
       "  </thead>\n",
       "  <tbody>\n",
       "    <tr>\n",
       "      <th>35498</th>\n",
       "      <td>/smartPhone</td>\n",
       "      <td>/washingService</td>\n",
       "      <td>/basic/text</td>\n",
       "      <td>NaN</td>\n",
       "      <td>-1</td>\n",
       "      <td>normal</td>\n",
       "    </tr>\n",
       "    <tr>\n",
       "      <th>58706</th>\n",
       "      <td>/smartPhone</td>\n",
       "      <td>/washingService</td>\n",
       "      <td>/basic/text</td>\n",
       "      <td>NaN</td>\n",
       "      <td>-1</td>\n",
       "      <td>normal</td>\n",
       "    </tr>\n",
       "    <tr>\n",
       "      <th>61348</th>\n",
       "      <td>/batteryService</td>\n",
       "      <td>/washingService</td>\n",
       "      <td>/basic/text</td>\n",
       "      <td>NaN</td>\n",
       "      <td>-1</td>\n",
       "      <td>anomalous(scan)</td>\n",
       "    </tr>\n",
       "    <tr>\n",
       "      <th>61377</th>\n",
       "      <td>/batteryService</td>\n",
       "      <td>/washingService</td>\n",
       "      <td>/basic/text</td>\n",
       "      <td>NaN</td>\n",
       "      <td>-1</td>\n",
       "      <td>anomalous(scan)</td>\n",
       "    </tr>\n",
       "    <tr>\n",
       "      <th>61418</th>\n",
       "      <td>/batteryService</td>\n",
       "      <td>/washingService</td>\n",
       "      <td>/basic/text</td>\n",
       "      <td>NaN</td>\n",
       "      <td>-1</td>\n",
       "      <td>anomalous(scan)</td>\n",
       "    </tr>\n",
       "    <tr>\n",
       "      <th>...</th>\n",
       "      <td>...</td>\n",
       "      <td>...</td>\n",
       "      <td>...</td>\n",
       "      <td>...</td>\n",
       "      <td>...</td>\n",
       "      <td>...</td>\n",
       "    </tr>\n",
       "    <tr>\n",
       "      <th>207345</th>\n",
       "      <td>/thermostat</td>\n",
       "      <td>/washingService</td>\n",
       "      <td>/basic/text</td>\n",
       "      <td>NaN</td>\n",
       "      <td>-1</td>\n",
       "      <td>anomalous(DoSattack)</td>\n",
       "    </tr>\n",
       "    <tr>\n",
       "      <th>207346</th>\n",
       "      <td>/thermostat</td>\n",
       "      <td>/washingService</td>\n",
       "      <td>/basic/text</td>\n",
       "      <td>NaN</td>\n",
       "      <td>-1</td>\n",
       "      <td>anomalous(DoSattack)</td>\n",
       "    </tr>\n",
       "    <tr>\n",
       "      <th>207347</th>\n",
       "      <td>/thermostat</td>\n",
       "      <td>/washingService</td>\n",
       "      <td>/basic/text</td>\n",
       "      <td>NaN</td>\n",
       "      <td>-1</td>\n",
       "      <td>anomalous(DoSattack)</td>\n",
       "    </tr>\n",
       "    <tr>\n",
       "      <th>243952</th>\n",
       "      <td>/smartPhone</td>\n",
       "      <td>/washingService</td>\n",
       "      <td>/basic/text</td>\n",
       "      <td>NaN</td>\n",
       "      <td>-1</td>\n",
       "      <td>normal</td>\n",
       "    </tr>\n",
       "    <tr>\n",
       "      <th>305400</th>\n",
       "      <td>/smartPhone</td>\n",
       "      <td>/washingService</td>\n",
       "      <td>/basic/text</td>\n",
       "      <td>NaN</td>\n",
       "      <td>-1</td>\n",
       "      <td>normal</td>\n",
       "    </tr>\n",
       "  </tbody>\n",
       "</table>\n",
       "<p>2050 rows × 6 columns</p>\n",
       "</div>"
      ],
      "text/plain": [
       "             sourceType destinationServiceType accessedNodeType value  \\\n",
       "35498       /smartPhone        /washingService      /basic/text   NaN   \n",
       "58706       /smartPhone        /washingService      /basic/text   NaN   \n",
       "61348   /batteryService        /washingService      /basic/text   NaN   \n",
       "61377   /batteryService        /washingService      /basic/text   NaN   \n",
       "61418   /batteryService        /washingService      /basic/text   NaN   \n",
       "...                 ...                    ...              ...   ...   \n",
       "207345      /thermostat        /washingService      /basic/text   NaN   \n",
       "207346      /thermostat        /washingService      /basic/text   NaN   \n",
       "207347      /thermostat        /washingService      /basic/text   NaN   \n",
       "243952      /smartPhone        /washingService      /basic/text   NaN   \n",
       "305400      /smartPhone        /washingService      /basic/text   NaN   \n",
       "\n",
       "        value_cat             normality  \n",
       "35498          -1                normal  \n",
       "58706          -1                normal  \n",
       "61348          -1       anomalous(scan)  \n",
       "61377          -1       anomalous(scan)  \n",
       "61418          -1       anomalous(scan)  \n",
       "...           ...                   ...  \n",
       "207345         -1  anomalous(DoSattack)  \n",
       "207346         -1  anomalous(DoSattack)  \n",
       "207347         -1  anomalous(DoSattack)  \n",
       "243952         -1                normal  \n",
       "305400         -1                normal  \n",
       "\n",
       "[2050 rows x 6 columns]"
      ]
     },
     "execution_count": 8,
     "metadata": {},
     "output_type": "execute_result"
    }
   ],
   "source": [
    "data[data['value_cat'] == -1][['sourceType', 'destinationServiceType', 'accessedNodeType','value', 'value_cat', 'normality']]"
   ]
  },
  {
   "cell_type": "code",
   "execution_count": 9,
   "metadata": {},
   "outputs": [],
   "source": [
    "data = data.fillna({'value': '0'})"
   ]
  },
  {
   "cell_type": "code",
   "execution_count": 10,
   "metadata": {},
   "outputs": [
    {
     "data": {
      "text/plain": [
       "2        57047\n",
       "0        52332\n",
       "10608    25966\n",
       "10621    14460\n",
       "578       9635\n",
       "         ...  \n",
       "225          1\n",
       "23           1\n",
       "481          1\n",
       "85           1\n",
       "183          1\n",
       "Name: value_cat, Length: 10623, dtype: int64"
      ]
     },
     "execution_count": 10,
     "metadata": {},
     "output_type": "execute_result"
    }
   ],
   "source": [
    "data[\"value\"] = data[\"value\"].astype('category')\n",
    "data[\"value_cat\"] = data[\"value\"].cat.codes\n",
    "data['value_cat'].value_counts()"
   ]
  },
  {
   "cell_type": "code",
   "execution_count": 11,
   "metadata": {},
   "outputs": [
    {
     "data": {
      "text/plain": [
       "0    347935\n",
       "1     10017\n",
       "Name: normality, dtype: int64"
      ]
     },
     "execution_count": 11,
     "metadata": {},
     "output_type": "execute_result"
    }
   ],
   "source": [
    "# label encoding normality\n",
    "data.loc[data['normality'] != 'normal', 'normality'] = 1\n",
    "data.loc[data['normality'] == 'normal', 'normality'] = 0\n",
    "data[\"normality\"] = data[\"normality\"].astype('int8')\n",
    "data[\"normality\"].value_counts()"
   ]
  },
  {
   "cell_type": "code",
   "execution_count": 12,
   "metadata": {},
   "outputs": [],
   "source": [
    "# encoding all the rest features\n",
    "data[\"sourceAddress\"] = data[\"sourceAddress\"].astype('category')\n",
    "data[\"sourceAddress_cat\"] = data[\"sourceAddress\"].cat.codes\n",
    "data[\"sourceType\"] = data[\"sourceType\"].astype('category')\n",
    "data[\"sourceType_cat\"] = data[\"sourceType\"].cat.codes\n",
    "data[\"sourceLocation\"] = data[\"sourceLocation\"].astype('category')\n",
    "data[\"sourceLocation_cat\"] = data[\"sourceLocation\"].cat.codes\n",
    "data[\"destinationServiceAddress\"] = data[\"destinationServiceAddress\"].astype('category')\n",
    "data[\"destinationServiceAddress_cat\"] = data[\"destinationServiceAddress\"].cat.codes\n",
    "data[\"destinationServiceType\"] = data[\"destinationServiceType\"].astype('category')\n",
    "data[\"destinationServiceType_cat\"] = data[\"destinationServiceType\"].cat.codes\n",
    "data[\"destinationLocation\"] = data[\"destinationLocation\"].astype('category')\n",
    "data[\"destinationLocation_cat\"] = data[\"destinationLocation\"].cat.codes\n",
    "data[\"accessedNodeAddress\"] = data[\"accessedNodeAddress\"].astype('category')\n",
    "data[\"accessedNodeAddress_cat\"] = data[\"accessedNodeAddress\"].cat.codes\n",
    "data[\"operation\"] = data[\"operation\"].astype('category')\n",
    "data[\"operation_cat\"] = data[\"operation\"].cat.codes"
   ]
  },
  {
   "cell_type": "code",
   "execution_count": 13,
   "metadata": {},
   "outputs": [
    {
     "name": "stdout",
     "output_type": "stream",
     "text": [
      "<class 'pandas.core.frame.DataFrame'>\n",
      "RangeIndex: 357952 entries, 0 to 357951\n",
      "Data columns (total 23 columns):\n",
      " #   Column                         Non-Null Count   Dtype   \n",
      "---  ------                         --------------   -----   \n",
      " 0   sourceID                       357952 non-null  object  \n",
      " 1   sourceAddress                  357952 non-null  category\n",
      " 2   sourceType                     357952 non-null  category\n",
      " 3   sourceLocation                 357952 non-null  category\n",
      " 4   destinationServiceAddress      357952 non-null  category\n",
      " 5   destinationServiceType         357952 non-null  category\n",
      " 6   destinationLocation            357952 non-null  category\n",
      " 7   accessedNodeAddress            357952 non-null  category\n",
      " 8   accessedNodeType               357952 non-null  category\n",
      " 9   operation                      357952 non-null  category\n",
      " 10  value                          357952 non-null  category\n",
      " 11  timestamp                      357952 non-null  int64   \n",
      " 12  normality                      357952 non-null  int8    \n",
      " 13  accessedNodeType_cat           357952 non-null  int8    \n",
      " 14  value_cat                      357952 non-null  int16   \n",
      " 15  sourceAddress_cat              357952 non-null  int8    \n",
      " 16  sourceType_cat                 357952 non-null  int8    \n",
      " 17  sourceLocation_cat             357952 non-null  int8    \n",
      " 18  destinationServiceAddress_cat  357952 non-null  int8    \n",
      " 19  destinationServiceType_cat     357952 non-null  int8    \n",
      " 20  destinationLocation_cat        357952 non-null  int8    \n",
      " 21  accessedNodeAddress_cat        357952 non-null  int16   \n",
      " 22  operation_cat                  357952 non-null  int8    \n",
      "dtypes: category(10), int16(2), int64(1), int8(9), object(1)\n",
      "memory usage: 14.3+ MB\n"
     ]
    }
   ],
   "source": [
    "data.info()"
   ]
  },
  {
   "cell_type": "code",
   "execution_count": 54,
   "metadata": {},
   "outputs": [
    {
     "data": {
      "text/plain": [
       "0    243577\n",
       "1      6989\n",
       "dtype: int64"
      ]
     },
     "execution_count": 54,
     "metadata": {},
     "output_type": "execute_result"
    }
   ],
   "source": [
    "# 2. Train test split\n",
    "x = data[['sourceType_cat', 'sourceAddress_cat', 'sourceLocation_cat', 'destinationServiceType_cat', 'destinationServiceAddress_cat', 'destinationLocation_cat', 'accessedNodeType_cat', 'accessedNodeAddress_cat', 'operation_cat', 'value_cat']]\n",
    "y = data[['normality']].values.ravel()\n",
    "X_train, X_test, y_train, y_test = train_test_split(x, y, test_size = 0.3)\n",
    "pd.Series(y_train).value_counts()"
   ]
  },
  {
   "cell_type": "code",
   "execution_count": 57,
   "metadata": {},
   "outputs": [],
   "source": [
    "# 3. Model training XGBoost (without oversampling)\n",
    "model = xgb.XGBClassifier(objective='binary:logistic', use_label_encoder =False, learning_rate= 1.5358256467186069, n_estimators = 35, max_depth = 14, verbosity = 0)\n",
    "model.fit(X_train, y_train)\n",
    "y_pred = model.predict(X_test)"
   ]
  },
  {
   "cell_type": "code",
   "execution_count": 58,
   "metadata": {},
   "outputs": [
    {
     "name": "stdout",
     "output_type": "stream",
     "text": [
      "Confusion matrix of XGBoost (without oversampling):\n"
     ]
    },
    {
     "data": {
      "image/png": "[encoded data removed]",
      "text/plain": [
       "<Figure size 432x288 with 2 Axes>"
      ]
     },
     "metadata": {
      "needs_background": "light"
     },
     "output_type": "display_data"
    },
    {
     "name": "stdout",
     "output_type": "stream",
     "text": [
      "\n",
      "Accuracy: 0.9943940551\n",
      "Precision: 0.994421306262763\n",
      "Recall: 0.9943940550909802\n",
      "F1 score: 0.9940949583342806\n"
     ]
    }
   ],
   "source": [
    "print(\"Confusion matrix of XGBoost (without oversampling):\")\n",
    "cm = confusion_matrix(y_test, y_pred)\n",
    "sns.heatmap(cm, annot=True, fmt=\".0f\")\n",
    "plt.xlabel(\"predicted y\")\n",
    "plt.ylabel(\"true y\")\n",
    "plt.show()\n",
    "score = accuracy_score(y_test, y_pred)\n",
    "precision, recall, f1score, ___ = precision_recall_fscore_support(y_test, y_pred, average='weighted') \n",
    "print(\"\\nAccuracy: %.10f\" %(score))\n",
    "print('Precision: %s' %(precision))\n",
    "print('Recall: %s' %(recall))\n",
    "print('F1 score: %s' %(f1score))"
   ]
  },
  {
   "cell_type": "code",
   "execution_count": 63,
   "metadata": {
    "scrolled": true
   },
   "outputs": [
    {
     "name": "stdout",
     "output_type": "stream",
     "text": [
      "100%|███████████████████████████████████████████████| 20/20 [01:23<00:00,  4.19s/trial, best loss: -0.9934162740021977]\n",
      "XGBoost: Hyperopt estimated optimum {'learning_rate': 0.12960031897473898, 'max_depth': 20.0, 'n_estimators': 60.0, 'objective': 2}\n"
     ]
    }
   ],
   "source": [
    "# Hyperparameter optimization for XGBoost using BO-TPE (Bayesian Optimization with Tree-structured Parzen Estimator)\n",
    "# L. Yang and A. Shami, “On hyperparameter optimization of machine learning algorithms: Theory and practice,” Neurocomputing, vol. 415, pp. 295–316, 2020, doi: https://doi.org/10.1016/j.neucom.2020.07.061.\n",
    "def objective(params):\n",
    "    params = {\n",
    "        'n_estimators': int(params['n_estimators']), \n",
    "        'max_depth': int(params['max_depth']),\n",
    "        'learning_rate':  abs(float(params['learning_rate'])),\n",
    "        'objective':str(params['objective'])\n",
    "    }\n",
    "    clf = xgb.XGBClassifier(**params, use_label_encoder=False, verbosity=0)\n",
    "    clf.fit(X_train, y_train)\n",
    "    y_pred = clf.predict(X_test)\n",
    "    score = accuracy_score(y_test, y_pred)\n",
    "\n",
    "    return {'loss':-score, 'status': STATUS_OK }\n",
    "\n",
    "space = {\n",
    "    'n_estimators': hp.quniform('n_estimators', 10, 100, 5),\n",
    "    'max_depth': hp.quniform('max_depth', 4, 100, 1),\n",
    "    'learning_rate': hp.normal('learning_rate', 0.01, 0.9),\n",
    "    'objective':hp.choice('objective', ['binary:logistic','binary:logitraw', 'binary:hinge'])\n",
    "}\n",
    "\n",
    "best = fmin(fn=objective,\n",
    "            space=space,\n",
    "            algo=tpe.suggest,\n",
    "            max_evals=20)\n",
    "print(\"XGBoost: Hyperopt estimated optimum {}\".format(best))"
   ]
  },
  {
   "cell_type": "code",
   "execution_count": 65,
   "metadata": {},
   "outputs": [
    {
     "data": {
      "text/plain": [
       "0    243577\n",
       "1     15000\n",
       "dtype: int64"
      ]
     },
     "execution_count": 65,
     "metadata": {},
     "output_type": "execute_result"
    }
   ],
   "source": [
    "# 4. Model training XGBoost (SMOTE oversampling)\n",
    "smote = SMOTE(n_jobs=-1, sampling_strategy={1:15000})\n",
    "X_train, y_train = smote.fit_resample(X_train, y_train)\n",
    "pd.Series(y_train).value_counts()"
   ]
  },
  {
   "cell_type": "code",
   "execution_count": 64,
   "metadata": {},
   "outputs": [
    {
     "name": "stdout",
     "output_type": "stream",
     "text": [
      "Confusion matrix of XGBoost (with oversampling):\n"
     ]
    },
    {
     "data": {
      "image/png": "[encoded data removed]",
      "text/plain": [
       "<Figure size 432x288 with 2 Axes>"
      ]
     },
     "metadata": {
      "needs_background": "light"
     },
     "output_type": "display_data"
    },
    {
     "name": "stdout",
     "output_type": "stream",
     "text": [
      "\n",
      "Accuracy: 0.9934162740\n",
      "Precision: 0.9946625107573372\n",
      "Recall: 0.9934162740021977\n",
      "F1 score: 0.9937492147185665\n"
     ]
    }
   ],
   "source": [
    "model = xgb.XGBClassifier(objective='binary:hinge', use_label_encoder =False, learning_rate= 0.12960031897473898, n_estimators = 60, max_depth = 20, verbosity = 0)\n",
    "model.fit(X_train, y_train)\n",
    "y_pred = model.predict(X_test)\n",
    "print(\"Confusion matrix of XGBoost (with oversampling):\")\n",
    "cm = confusion_matrix(y_test, y_pred)\n",
    "sns.heatmap(cm, annot=True, fmt=\".0f\")\n",
    "plt.xlabel(\"predicted y\")\n",
    "plt.ylabel(\"true y\")\n",
    "plt.show()\n",
    "score = accuracy_score(y_test, y_pred)\n",
    "precision, recall, f1score, ___ = precision_recall_fscore_support(y_test, y_pred, average='weighted') \n",
    "print(\"\\nAccuracy: %.10f\" %(score))\n",
    "print('Precision: %s' %(precision))\n",
    "print('Recall: %s' %(recall))\n",
    "print('F1 score: %s' %(f1score))"
   ]
  },
  {
   "cell_type": "code",
   "execution_count": 28,
   "metadata": {},
   "outputs": [
    {
     "name": "stdout",
     "output_type": "stream",
     "text": [
      "Confusion matrix of Random Forest (without oversampling):\n"
     ]
    },
    {
     "data": {
      "image/png": "[encoded data removed]",
      "text/plain": [
       "<Figure size 432x288 with 2 Axes>"
      ]
     },
     "metadata": {
      "needs_background": "light"
     },
     "output_type": "display_data"
    },
    {
     "name": "stdout",
     "output_type": "stream",
     "text": [
      "\n",
      "Accuracy: 0.9944778649\n",
      "Precision: 0.994504267715256\n",
      "Recall: 0.9944778648985901\n",
      "F1 score: 0.9941888166544491\n"
     ]
    }
   ],
   "source": [
    "# 5. Model training Random Forest (without oversampling)\n",
    "rf = RandomForestClassifier(n_estimators = 40, min_samples_leaf = 1, max_depth = 32, min_samples_split = 3, max_features = 7, criterion = 'gini')\n",
    "rf.fit(X_train,y_train)\n",
    "y_pred = rf.predict(X_test)\n",
    "print(\"Confusion matrix of Random Forest (without oversampling):\")\n",
    "cm = confusion_matrix(y_test, y_pred)\n",
    "sns.heatmap(cm, annot=True, fmt=\".0f\")\n",
    "plt.xlabel(\"predicted y\")\n",
    "plt.ylabel(\"true y\")\n",
    "plt.show()\n",
    "score = accuracy_score(y_test, y_pred)\n",
    "precision, recall, f1score, ___ = precision_recall_fscore_support(y_test, y_pred, average='weighted') \n",
    "print(\"\\nAccuracy: %.10f\" %(score))\n",
    "print('Precision: %s' %(precision))\n",
    "print('Recall: %s' %(recall))\n",
    "print('F1 score: %s' %(f1score))"
   ]
  },
  {
   "cell_type": "code",
   "execution_count": 23,
   "metadata": {},
   "outputs": [
    {
     "name": "stdout",
     "output_type": "stream",
     "text": [
      "100%|███████████████████████████████████████████████| 20/20 [12:42<00:00, 38.14s/trial, best loss: -0.9944086587964848]\n",
      "Random Forest: Hyperopt estimated optimum {'criterion': 0, 'max_depth': 32.0, 'max_features': 7.0, 'min_samples_leaf': 1.0, 'min_samples_split': 3.0, 'n_estimators': 40.0}\n"
     ]
    }
   ],
   "source": [
    "# Hyperparameter optimization for Random Forest using BO-TPE (Bayesian Optimization with Tree-structured Parzen Estimator)\n",
    "# L. Yang and A. Shami, “On hyperparameter optimization of machine learning algorithms: Theory and practice,” Neurocomputing, vol. 415, pp. 295–316, 2020, doi: https://doi.org/10.1016/j.neucom.2020.07.061.\n",
    "def objective(params):\n",
    "    params = {\n",
    "        'n_estimators': int(params['n_estimators']), \n",
    "        'max_depth': int(params['max_depth']),\n",
    "        'max_features': int(params['max_features']),\n",
    "        \"min_samples_split\":int(params['min_samples_split']),\n",
    "        \"min_samples_leaf\":int(params['min_samples_leaf']),\n",
    "        \"criterion\":str(params['criterion'])\n",
    "    }\n",
    "    clf = RandomForestClassifier(**params)\n",
    "    score = cross_val_score(clf, X_train, y_train, scoring='accuracy', cv=StratifiedKFold(n_splits=3)).mean()\n",
    "    #print(\"ROC-AUC {:.3f} params {}\".format(score, params))\n",
    "\n",
    "    return {'loss':-score, 'status': STATUS_OK }\n",
    "# Define the hyperparameter configuration space\n",
    "space = {\n",
    "    'n_estimators': hp.quniform('n_estimators', 10, 100, 1),\n",
    "    'max_depth': hp.quniform('max_depth', 5, 50, 1),\n",
    "    \"max_features\":hp.quniform('max_features', 1, 10, 1),\n",
    "    \"min_samples_split\":hp.quniform('min_samples_split',2,11,1),\n",
    "    \"min_samples_leaf\":hp.quniform('min_samples_leaf',1,11,1),\n",
    "    \"criterion\":hp.choice('criterion',['gini','entropy'])\n",
    "}\n",
    "\n",
    "best = fmin(fn=objective,\n",
    "            space=space,\n",
    "            algo=tpe.suggest,\n",
    "            max_evals=20)\n",
    "print(\"Random Forest: Hyperopt estimated optimum {}\".format(best))"
   ]
  },
  {
   "cell_type": "code",
   "execution_count": 25,
   "metadata": {},
   "outputs": [
    {
     "name": "stdout",
     "output_type": "stream",
     "text": [
      "Confusion matrix of Random Forest (with oversampling):\n"
     ]
    },
    {
     "data": {
      "image/png": "[encoded data removed]",
      "text/plain": [
       "<Figure size 432x288 with 2 Axes>"
      ]
     },
     "metadata": {
      "needs_background": "light"
     },
     "output_type": "display_data"
    },
    {
     "name": "stdout",
     "output_type": "stream",
     "text": [
      "\n",
      "Accuracy: 0.9937980742\n",
      "Precision: 0.9949108119950137\n",
      "Recall: 0.9937980742368652\n",
      "F1 score: 0.9940937453395163\n"
     ]
    }
   ],
   "source": [
    "# 5. Model training Random Forest (with oversampling)\n",
    "smote = SMOTE(n_jobs=-1, sampling_strategy={1:15000})\n",
    "X_train, y_train = smote.fit_resample(X_train, y_train)\n",
    "pd.Series(y_train).value_counts()\n",
    "rf = RandomForestClassifier(n_estimators = 40, min_samples_leaf = 1, max_depth = 32, min_samples_split = 3, max_features = 7, criterion = 'gini')\n",
    "rf.fit(X_train,y_train)\n",
    "y_pred = rf.predict(X_test)\n",
    "print(\"Confusion matrix of Random Forest (with oversampling):\")\n",
    "cm = confusion_matrix(y_test, y_pred)\n",
    "sns.heatmap(cm, annot=True, fmt=\".0f\")\n",
    "plt.xlabel(\"predicted y\")\n",
    "plt.ylabel(\"true y\")\n",
    "plt.show()\n",
    "score = accuracy_score(y_test, y_pred)\n",
    "precision, recall, f1score, ___ = precision_recall_fscore_support(y_test, y_pred, average='weighted') \n",
    "print(\"\\nAccuracy: %.10f\" %(score))\n",
    "print('Precision: %s' %(precision))\n",
    "print('Recall: %s' %(recall))\n",
    "print('F1 score: %s' %(f1score))"
   ]
  },
  {
   "cell_type": "code",
   "execution_count": null,
   "metadata": {},
   "outputs": [],
   "source": []
  }
 ],
 "metadata": {
  "kernelspec": {
   "display_name": "Python 3",
   "language": "python",
   "name": "python3"
  },
  "language_info": {
   "codemirror_mode": {
    "name": "ipython",
    "version": 3
   },
   "file_extension": ".py",
   "mimetype": "text/x-python",
   "name": "python",
   "nbconvert_exporter": "python",
   "pygments_lexer": "ipython3",
   "version": "3.8.3"
  }
 },
 "nbformat": 4,
 "nbformat_minor": 4
}
